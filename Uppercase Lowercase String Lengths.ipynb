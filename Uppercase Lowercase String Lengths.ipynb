{
 "cells": [
  {
   "cell_type": "markdown",
   "id": "8d0fb0fc",
   "metadata": {},
   "source": [
    "W̊eird! \n",
    "\n",
    "This puzzle from codewars asks the user to provide an example where uppercase / lower case transformations will differ in string length\n",
    "\n",
    "https://www.codewars.com/kata/644b17b56ed5527b09057987"
   ]
  },
  {
   "cell_type": "code",
   "execution_count": 7,
   "id": "0f585846",
   "metadata": {},
   "outputs": [
    {
     "name": "stdout",
     "output_type": "stream",
     "text": [
      "2\n",
      "1\n"
     ]
    }
   ],
   "source": [
    "print(len('ß'.upper()))\n",
    "print(len('ß'.lower()))"
   ]
  },
  {
   "cell_type": "markdown",
   "id": "7d6ac2d3",
   "metadata": {},
   "source": [
    "I couldn't help but wonder, how many such combinations are there?"
   ]
  },
  {
   "cell_type": "code",
   "execution_count": 8,
   "id": "18153f62",
   "metadata": {},
   "outputs": [
    {
     "name": "stdout",
     "output_type": "stream",
     "text": [
      "[('SS', 'ß'), ('İ', 'i̇'), ('ʼN', 'ŉ'), ('J̌', 'ǰ'), ('Ϊ́', 'ΐ'), ('Ϋ́', 'ΰ'), ('ԵՒ', 'և'), ('H̱', 'ẖ'), ('T̈', 'ẗ'), ('W̊', 'ẘ'), ('Y̊', 'ẙ'), ('Aʾ', 'ẚ'), ('Υ̓', 'ὐ'), ('Υ̓̀', 'ὒ'), ('Υ̓́', 'ὔ'), ('Υ̓͂', 'ὖ'), ('ἈΙ', 'ᾀ'), ('ἉΙ', 'ᾁ'), ('ἊΙ', 'ᾂ'), ('ἋΙ', 'ᾃ'), ('ἌΙ', 'ᾄ'), ('ἍΙ', 'ᾅ'), ('ἎΙ', 'ᾆ'), ('ἏΙ', 'ᾇ'), ('ἨΙ', 'ᾐ'), ('ἩΙ', 'ᾑ'), ('ἪΙ', 'ᾒ'), ('ἫΙ', 'ᾓ'), ('ἬΙ', 'ᾔ'), ('ἭΙ', 'ᾕ'), ('ἮΙ', 'ᾖ'), ('ἯΙ', 'ᾗ'), ('ὨΙ', 'ᾠ'), ('ὩΙ', 'ᾡ'), ('ὪΙ', 'ᾢ'), ('ὫΙ', 'ᾣ'), ('ὬΙ', 'ᾤ'), ('ὭΙ', 'ᾥ'), ('ὮΙ', 'ᾦ'), ('ὯΙ', 'ᾧ'), ('ᾺΙ', 'ᾲ'), ('ΑΙ', 'ᾳ'), ('ΆΙ', 'ᾴ'), ('Α͂', 'ᾶ'), ('Α͂Ι', 'ᾷ'), ('ῊΙ', 'ῂ'), ('ΗΙ', 'ῃ'), ('ΉΙ', 'ῄ'), ('Η͂', 'ῆ'), ('Η͂Ι', 'ῇ'), ('Ϊ̀', 'ῒ'), ('Ϊ́', 'ΐ'), ('Ι͂', 'ῖ'), ('Ϊ͂', 'ῗ'), ('Ϋ̀', 'ῢ'), ('Ϋ́', 'ΰ'), ('Ρ̓', 'ῤ'), ('Υ͂', 'ῦ'), ('Ϋ͂', 'ῧ'), ('ῺΙ', 'ῲ'), ('ΩΙ', 'ῳ'), ('ΏΙ', 'ῴ'), ('Ω͂', 'ῶ'), ('Ω͂Ι', 'ῷ'), ('FF', 'ﬀ'), ('FI', 'ﬁ'), ('FL', 'ﬂ'), ('FFI', 'ﬃ'), ('FFL', 'ﬄ'), ('ST', 'ﬅ'), ('ST', 'ﬆ'), ('ՄՆ', 'ﬓ'), ('ՄԵ', 'ﬔ'), ('ՄԻ', 'ﬕ'), ('ՎՆ', 'ﬖ'), ('ՄԽ', 'ﬗ')]\n"
     ]
    }
   ],
   "source": [
    "arr=[]\n",
    "\n",
    "# Loop through Unicode characters (0-65535)\n",
    "for i in range(65536):\n",
    "    if len(chr(i).upper()) != len(chr(i).lower()):\n",
    "        arr.append((chr(i).upper(),chr(i).lower()))\n",
    "    \n",
    "arr=list(dict.fromkeys(arr))\n",
    "\n",
    "print(arr)"
   ]
  }
 ],
 "metadata": {
  "kernelspec": {
   "display_name": "Python 3 (ipykernel)",
   "language": "python",
   "name": "python3"
  },
  "language_info": {
   "codemirror_mode": {
    "name": "ipython",
    "version": 3
   },
   "file_extension": ".py",
   "mimetype": "text/x-python",
   "name": "python",
   "nbconvert_exporter": "python",
   "pygments_lexer": "ipython3",
   "version": "3.10.9"
  }
 },
 "nbformat": 4,
 "nbformat_minor": 5
}
